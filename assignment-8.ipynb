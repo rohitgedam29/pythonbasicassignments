{
 "cells": [
  {
   "cell_type": "code",
   "execution_count": null,
   "id": "d00155ab",
   "metadata": {},
   "outputs": [],
   "source": [
    "Que.1 Is the Python Standard Library included with PyInputPlus?\n",
    "\n",
    "Ans:  No, python standard library is not included with PyInputPlus"
   ]
  },
  {
   "cell_type": "code",
   "execution_count": null,
   "id": "6a336e1e",
   "metadata": {},
   "outputs": [],
   "source": [
    "Que.2 Why is PyInputPlus commonly imported with import pyinputplus as pypi?\n",
    "\n",
    "Ans: PyInputPlus is imported with 'import pyinputplus as pyip' so that we can enter a shorter name when calling the \n",
    "     module's functions.\n",
    "\n"
   ]
  },
  {
   "cell_type": "code",
   "execution_count": null,
   "id": "9d9f8b29",
   "metadata": {},
   "outputs": [],
   "source": [
    "Que.3 How do you distinguish between inputInt() and inputFloat()?\n",
    "\n",
    "Ans:  inputInt() function Accepts an integer value and returns integer as output\n",
    "\n",
    "     inputFloat() function Accepts a floating-point numeric value and returns floating-point numeric value as output"
   ]
  },
  {
   "cell_type": "code",
   "execution_count": null,
   "id": "40fa081f",
   "metadata": {},
   "outputs": [],
   "source": [
    "Que.4 Using PyInputPlus, how do you ensure that the user enters a whole number between 0 and 99?\n",
    "\n",
    "Ans: PyInputPlus module provides a function called as inputInt() which only returns only integer values. \n",
    "    inorder to restrict the input between 0 and 99, we can use parameters like min & max to ensure that user \n",
    "    enters the values between the defined range only.\n",
    "    as shown below:-"
   ]
  },
  {
   "cell_type": "code",
   "execution_count": null,
   "id": "e4fb4e47",
   "metadata": {},
   "outputs": [],
   "source": [
    "import PyInputPlus as pyip\n",
    "inp = pyip.inputInt(prompt='Enter a number: ', min=0, max=100)\n",
    "print(inp)"
   ]
  },
  {
   "cell_type": "code",
   "execution_count": null,
   "id": "c2321e11",
   "metadata": {},
   "outputs": [],
   "source": [
    "Que.5 What is transferred to the keyword arguments allowRegexes and blockRegexes?\n",
    "\n",
    "Ans: we can use allowRegexes and blockRegexes keyword arguments to take list of regular expression strings to determine\n",
    "     what the pyinputplus function will accept or reject as valid input."
   ]
  },
  {
   "cell_type": "code",
   "execution_count": null,
   "id": "e093282d",
   "metadata": {},
   "outputs": [],
   "source": [
    "Que.6 If a blank input is entered three times, what does inputStr(limit=3) do?\n",
    "\n",
    "Ans:  The statement inputStr(limit=3) will throw two exceptions ValidationException and RetryLimitException.\n",
    "      The first exception is thrown because blank values are not allowed by inputStr() function by default. \n",
    "      if we want to consider blank values as valid input, we have to set blank=True.\n",
    "\n",
    "     The second exception is occured because we have reached the max limit we have specified by using limit parameter. \n",
    "     inorder to avoid this exception we can use default parameter to return a default value when max limit is reached."
   ]
  },
  {
   "cell_type": "code",
   "execution_count": null,
   "id": "33e0425c",
   "metadata": {},
   "outputs": [],
   "source": [
    "Que.7 If blank input is entered three times, what does inputStr(limit=3, default='hello') do?\n",
    "\n",
    "Ans: Since the default parameter is set to hello. after blank input is entered three times, the function will return \n",
    "     'hello' as response to the calling function\n",
    "\n",
    " "
   ]
  },
  {
   "cell_type": "code",
   "execution_count": null,
   "id": "902ede84",
   "metadata": {},
   "outputs": [],
   "source": []
  },
  {
   "cell_type": "code",
   "execution_count": null,
   "id": "5cb0b6db",
   "metadata": {},
   "outputs": [],
   "source": []
  },
  {
   "cell_type": "code",
   "execution_count": null,
   "id": "8bee6c52",
   "metadata": {},
   "outputs": [],
   "source": []
  },
  {
   "cell_type": "code",
   "execution_count": null,
   "id": "8fd2af31",
   "metadata": {},
   "outputs": [],
   "source": []
  },
  {
   "cell_type": "code",
   "execution_count": null,
   "id": "349dee44",
   "metadata": {},
   "outputs": [],
   "source": []
  },
  {
   "cell_type": "code",
   "execution_count": null,
   "id": "5bfebd0b",
   "metadata": {},
   "outputs": [],
   "source": []
  },
  {
   "cell_type": "code",
   "execution_count": null,
   "id": "ecec1533",
   "metadata": {},
   "outputs": [],
   "source": []
  },
  {
   "cell_type": "code",
   "execution_count": null,
   "id": "fedfaef2",
   "metadata": {},
   "outputs": [],
   "source": []
  },
  {
   "cell_type": "code",
   "execution_count": null,
   "id": "3dc2d1ed",
   "metadata": {},
   "outputs": [],
   "source": []
  }
 ],
 "metadata": {
  "kernelspec": {
   "display_name": "Python 3 (ipykernel)",
   "language": "python",
   "name": "python3"
  },
  "language_info": {
   "codemirror_mode": {
    "name": "ipython",
    "version": 3
   },
   "file_extension": ".py",
   "mimetype": "text/x-python",
   "name": "python",
   "nbconvert_exporter": "python",
   "pygments_lexer": "ipython3",
   "version": "3.9.7"
  }
 },
 "nbformat": 4,
 "nbformat_minor": 5
}
