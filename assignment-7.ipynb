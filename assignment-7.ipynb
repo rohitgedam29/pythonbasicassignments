{
 "cells": [
  {
   "cell_type": "code",
   "execution_count": null,
   "id": "7d88db16",
   "metadata": {},
   "outputs": [],
   "source": [
    "Que.1 What is the name of the feature responsible for generating RegEx objects?\n",
    "\n",
    "ANS- Python provides a 're' module that supports the use of Regular Expression(RegEx) in python.\n",
    "     re.compile() function returns regex objects.\n",
    "     "
   ]
  },
  {
   "cell_type": "code",
   "execution_count": null,
   "id": "7df43049",
   "metadata": {},
   "outputs": [],
   "source": [
    "Que.2  Why do raw strings often appear in RegEx objects?\n",
    "\n",
    "ANS-   Raw string notation(r\"text\") keeps regular expressions meaningful and confusion free. \n",
    "      Without it, every backslash('\\') in a regular expression would have to be prefixed with another one to escape it.\n",
    "      "
   ]
  },
  {
   "cell_type": "code",
   "execution_count": null,
   "id": "84720759",
   "metadata": {},
   "outputs": [],
   "source": [
    "Que.3  What is the return value of the search() method?\n",
    "\n",
    "Ans:   The search() function searches the string for a match, and returns a Match object if there is a match.\n",
    "       If there is more than one match, only the first occurrence of the match will be returned. \n",
    "       If no matches are found, the value None is returned"
   ]
  },
  {
   "cell_type": "code",
   "execution_count": null,
   "id": "2fd72e6e",
   "metadata": {},
   "outputs": [],
   "source": [
    "Que.4  From a Match item, how do you get the actual strings that match the pattern?\n",
    "\n",
    "Ans    By using group() method we can get the actual strings that match the pattern."
   ]
  },
  {
   "cell_type": "code",
   "execution_count": null,
   "id": "b6b39742",
   "metadata": {},
   "outputs": [],
   "source": [
    "Que.5  In the regex which created from the r'(\\d\\d\\d)-(\\d\\d\\d-\\d\\d\\d\\d)', what does group zero cover? Group 2? Group 1?\n",
    "\n",
    "Ans:   Group 0 is the entire match, \n",
    "       group 1 covers the first set of parentheses\n",
    "       group 2 covers the second set of parentheses."
   ]
  },
  {
   "cell_type": "code",
   "execution_count": null,
   "id": "6cc0e063",
   "metadata": {},
   "outputs": [],
   "source": [
    "Que.6  In standard expression syntax, parentheses and intervals have distinct meanings. How can you tell a regex that you \n",
    "       want it to fit real parentheses and periods?\n",
    "    \n",
    "Ans.-  Periods and parentheses can be escaped with a blackslash:- \n",
    "         \\.   \n",
    "         \\(   \n",
    "         and\\)    "
   ]
  },
  {
   "cell_type": "code",
   "execution_count": null,
   "id": "2a209016",
   "metadata": {},
   "outputs": [],
   "source": [
    "Que.7  The findall() method returns a string list or a list of string tuples. What causes it to return one of the two               options?\n",
    "\n",
    "Ans.-  If the regex has no groups, a list of strings is returned.\n",
    "       If the regex has groups, a list of tuples of strings is returned."
   ]
  },
  {
   "cell_type": "code",
   "execution_count": null,
   "id": "e3f19bdc",
   "metadata": {},
   "outputs": [],
   "source": [
    "Que.8  In standard expressions, what does the | character mean?\n",
    "Ans:   either or"
   ]
  },
  {
   "cell_type": "code",
   "execution_count": null,
   "id": "3c2a5ba8",
   "metadata": {},
   "outputs": [],
   "source": [
    "Que.9  In regular expressions, what does the ? character stand for?\n",
    "Ans:   ? character stands for - Zero or one occurrences"
   ]
  },
  {
   "cell_type": "code",
   "execution_count": null,
   "id": "bdcc96eb",
   "metadata": {},
   "outputs": [],
   "source": [
    "Que.10 In regular expressions, what is the difference between the + and * characters?\n",
    "\n",
    "Ans:   ? : Zero or one occurrences\n",
    "       + : One or more occurrences"
   ]
  },
  {
   "cell_type": "code",
   "execution_count": null,
   "id": "053ed7d4",
   "metadata": {},
   "outputs": [],
   "source": [
    "Que.11 What is the difference between {4} and {4,5} in regular expression?\n",
    "Ans:   The {4} matches exactly four instances of the preceding group. \n",
    "       The {4,5} matches between four and five instances."
   ]
  },
  {
   "cell_type": "code",
   "execution_count": null,
   "id": "6a486681",
   "metadata": {},
   "outputs": [],
   "source": [
    "Que.12 What do you mean by the \\d, \\w, and \\s shorthand character classes signify in regular expressions?\n",
    "\n",
    "Ans: \\d : Returns a match where the string contains digits (numbers from 0-9)\n",
    "\n",
    "     \\w : Returns a match where the string contains any word characters (characters from a to Z,digits from 0-9 and the \n",
    "         underscore _ character)\n",
    "\n",
    "     \\s : Returns a match where the string contains a white space character"
   ]
  },
  {
   "cell_type": "code",
   "execution_count": null,
   "id": "4514f2e9",
   "metadata": {},
   "outputs": [],
   "source": [
    "Que.13 What do means by \\D, \\W, and \\S shorthand character classes signify in regular expressions?\n",
    "\n",
    "Ans:   \\D: Returns a match where the string DOES NOT contain digits\n",
    "\n",
    "       \\W: Returns a match where the string DOES NOT contain any word characters \n",
    "\n",
    "       \\S: Returns a match where the string DOES NOT contain a white space character"
   ]
  },
  {
   "cell_type": "code",
   "execution_count": null,
   "id": "1ed002e6",
   "metadata": {},
   "outputs": [],
   "source": [
    "Que.14 What is the difference between .* and .*?\n",
    "\n",
    "Ans:   .* : This is greedy behaviour. It will try to match as much as possible to have the biggest match result possible\n",
    "\n",
    "      .*? : This is lazy behaviour. this is the opposite of greedy behaviour. It will try to find the smallest match \n",
    "            possible.\n"
   ]
  },
  {
   "cell_type": "code",
   "execution_count": null,
   "id": "3ce70372",
   "metadata": {},
   "outputs": [],
   "source": [
    "Que.15 What is the syntax for matching both numbers and lowercase letters with a character class?\n",
    "\n",
    "Ans:   1. [a-z0-9] \n",
    "       2. [0-9a-z]"
   ]
  },
  {
   "cell_type": "code",
   "execution_count": null,
   "id": "a3ecb02d",
   "metadata": {},
   "outputs": [],
   "source": [
    "Que.16 What is the procedure for making a normal expression in regax case insensitive?\n",
    "\n",
    "Ans:   Pass \"re.IGNORECASE\" to the flags parameters"
   ]
  },
  {
   "cell_type": "code",
   "execution_count": null,
   "id": "22dcdead",
   "metadata": {},
   "outputs": [],
   "source": [
    "Que.17 What does the . character normally match? What does it match if re.DOTALL is passed as 2nd argument in re.compile()?\n",
    "\n",
    "Ans: The . character normally matches any character except the newline character.\n",
    "      If re.DOTALL is passed as the 2nd argument to re.compile(), then the dot will also match newline characters."
   ]
  },
  {
   "cell_type": "code",
   "execution_count": null,
   "id": "b5c3477e",
   "metadata": {},
   "outputs": [],
   "source": [
    "Que.18 If numReg = re.compile(r'\\d+'), what will numRegex.sub('X', '11 drummers, 10 pipers, five rings, 4 hen') return?\n",
    "\n",
    "Ans.-"
   ]
  },
  {
   "cell_type": "code",
   "execution_count": 1,
   "id": "fb5b5c91",
   "metadata": {},
   "outputs": [
    {
     "data": {
      "text/plain": [
       "'X drummers, X pipers, five rings, X hen'"
      ]
     },
     "execution_count": 1,
     "metadata": {},
     "output_type": "execute_result"
    }
   ],
   "source": [
    "import re\n",
    "numReg = re.compile(r'\\d+')\n",
    "numReg.sub('X', '11 drummers, 10 pipers, five rings, 4 hen')"
   ]
  },
  {
   "cell_type": "code",
   "execution_count": null,
   "id": "61a0ec7e",
   "metadata": {},
   "outputs": [],
   "source": [
    "Que.19 What does passing re.VERBOSE as the 2nd argument to re.compile() allow to do?\n",
    "\n",
    "Ans:   The re.VERBOSE argument allows to add whitespace and comments to the string passed to re.compile()."
   ]
  },
  {
   "cell_type": "code",
   "execution_count": null,
   "id": "2f76802f",
   "metadata": {},
   "outputs": [],
   "source": [
    "Que.20 How would you write a regex that match a number with comma for every three digits? It must match the given \n",
    "       following:\n",
    "      '42' '1,234' '6,368,'745'\n",
    "       but not the following: \n",
    "      '12,34,567' (which has only two digits between the commas) \n",
    "      '1234' (which lacks commas)\n",
    "        \n",
    "Ans.-         "
   ]
  },
  {
   "cell_type": "code",
   "execution_count": 2,
   "id": "5f181173",
   "metadata": {},
   "outputs": [
    {
     "name": "stdout",
     "output_type": "stream",
     "text": [
      "output: 42 is <re.Match object; span=(0, 2), match='42'>\n",
      "output: 1,234 is <re.Match object; span=(0, 5), match='1,234'>\n",
      "output: 6,368,745 is <re.Match object; span=(0, 9), match='6,368,745'>\n",
      "output: 12,34,567 is None\n",
      "output: 1234 is None\n"
     ]
    }
   ],
   "source": [
    "import re\n",
    "pattern = r'^\\d{1,3}(,\\d{3})*$'\n",
    "matches= re.compile(pattern)\n",
    "elements = ['42','1,234', '6,368,745','12,34,567','1234']\n",
    "for i in elements:\n",
    "    print(f'output: {i} is {matches.search(i)}')\n",
    "    "
   ]
  },
  {
   "cell_type": "code",
   "execution_count": null,
   "id": "b21f85a1",
   "metadata": {},
   "outputs": [],
   "source": [
    "Que.21 How would you write a regex that matches the full name of someone whose last name is Watanabe? You can assume that\n",
    "       the first name that comes before it will always be one word that begins with a capital letter. The regex must match \n",
    "       the following:\n",
    "       'Haruto Watanabe'   \n",
    "       'Alice Watanabe'\n",
    "       'RoboCop Watanabe'\n",
    "      \n",
    "        but not the following: \n",
    "      'haruto Watanabe' (where the first name is not capitalized) \n",
    "      'Mr. Watanabe' (where the preceding word has a nonletter character) \n",
    "      'Watanabe' (which has no first name) \n",
    "       'Haruto watanabe' (where Watanabe is not capitalized)\n",
    "\n"
   ]
  },
  {
   "cell_type": "code",
   "execution_count": 3,
   "id": "2415c9cc",
   "metadata": {},
   "outputs": [
    {
     "name": "stdout",
     "output_type": "stream",
     "text": [
      "Output:  Haruto Watanabe : ['Haruto Watanabe']\n",
      "Output:  Alice Watanabe : ['Alice Watanabe']\n",
      "Output:  RoboCop Watanabe : ['Cop Watanabe']\n",
      "Output:  haruto Watanabe : []\n",
      "Output:  Mr. Watanabe : []\n",
      "Output:  Watanabe : []\n",
      "Output:  Haruto watanabe : []\n"
     ]
    }
   ],
   "source": [
    "import re\n",
    "pattern = r'[A-Z]{1}[a-z]+\\sWatanabe'\n",
    "matches = re.compile(pattern)\n",
    "list_names = ['Haruto Watanabe','Alice Watanabe','RoboCop Watanabe','haruto Watanabe','Mr. Watanabe','Watanabe',\n",
    "              'Haruto watanabe']\n",
    "for name in list_names :\n",
    "    print('Output: ',name,':',matches.findall(name))"
   ]
  },
  {
   "cell_type": "code",
   "execution_count": null,
   "id": "d1c973f7",
   "metadata": {},
   "outputs": [],
   "source": [
    "Que.22 How would you write a regex that matches a sentence where the first word is either Alice, Bob, or Carol;\n",
    "       the second word is either eats, pets, or throws; the third word is apples, cats, or baseballs;\n",
    "       and the sentence ends with a period? This regex should be case-insensitive. It must match the following:\n",
    "      'Alice eats apples.' 'Bob pets cats.' 'Carol throws baseballs.' 'Alice throws Apples.' 'BOB EATS CATS.' \n",
    "       \n",
    "        but not the following: 'RoboCop eats apples.' 'ALICE THROWS FOOTBALLS.' 'Carol eats 7 cats.'"
   ]
  },
  {
   "cell_type": "code",
   "execution_count": 4,
   "id": "c11cc2ad",
   "metadata": {},
   "outputs": [
    {
     "name": "stdout",
     "output_type": "stream",
     "text": [
      "Output:  Alice eats apples. : <re.Match object; span=(0, 17), match='Alice eats apples'>\n",
      "Output:  Bob pets cats. : <re.Match object; span=(0, 13), match='Bob pets cats'>\n",
      "Output:  Carol throws baseballs. : <re.Match object; span=(0, 22), match='Carol throws baseballs'>\n",
      "Output:  Alice throws Apples. : <re.Match object; span=(0, 19), match='Alice throws Apples'>\n",
      "Output:  BOB EATS CATS. : <re.Match object; span=(0, 13), match='BOB EATS CATS'>\n",
      "Output:  RoboCop eats apples. : None\n",
      "Output:  ALICE THROWS FOOTBALLS. : None\n",
      "Output:  Carol eats 7 cats. : None\n"
     ]
    }
   ],
   "source": [
    "import re\n",
    "pattern= r'(Alice|Bob|Carol)\\s(eats|pets|throws)\\s(apples|cats|baseballs)'\n",
    "matches= re.compile(pattern, re.IGNORECASE)\n",
    "list_names = ['Alice eats apples.','Bob pets cats.','Carol throws baseballs.','Alice throws Apples.','BOB EATS CATS.',\n",
    "              'RoboCop eats apples.','ALICE THROWS FOOTBALLS.','Carol eats 7 cats.']\n",
    "for i in list_names:\n",
    "    print('Output: ',i,':',matches.search(i))"
   ]
  },
  {
   "cell_type": "code",
   "execution_count": null,
   "id": "1834dae6",
   "metadata": {},
   "outputs": [],
   "source": []
  },
  {
   "cell_type": "code",
   "execution_count": null,
   "id": "825c26b4",
   "metadata": {},
   "outputs": [],
   "source": []
  },
  {
   "cell_type": "code",
   "execution_count": null,
   "id": "b1089206",
   "metadata": {},
   "outputs": [],
   "source": []
  },
  {
   "cell_type": "code",
   "execution_count": null,
   "id": "4c2a8923",
   "metadata": {},
   "outputs": [],
   "source": []
  }
 ],
 "metadata": {
  "kernelspec": {
   "display_name": "Python 3 (ipykernel)",
   "language": "python",
   "name": "python3"
  },
  "language_info": {
   "codemirror_mode": {
    "name": "ipython",
    "version": 3
   },
   "file_extension": ".py",
   "mimetype": "text/x-python",
   "name": "python",
   "nbconvert_exporter": "python",
   "pygments_lexer": "ipython3",
   "version": "3.9.7"
  }
 },
 "nbformat": 4,
 "nbformat_minor": 5
}
